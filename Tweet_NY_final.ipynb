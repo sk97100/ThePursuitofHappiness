{
  "nbformat": 4,
  "nbformat_minor": 0,
  "metadata": {
    "colab": {
      "name": "Tweet_NY_final.ipynb",
      "provenance": []
    },
    "kernelspec": {
      "name": "python3",
      "display_name": "Python 3"
    },
    "language_info": {
      "name": "python"
    }
  },
  "cells": [
    {
      "cell_type": "code",
      "execution_count": null,
      "metadata": {
        "colab": {
          "base_uri": "https://localhost:8080/"
        },
        "id": "lkxFaORht9hc",
        "outputId": "333f6230-8726-4174-a287-184bcd75309d"
      },
      "outputs": [
        {
          "output_type": "stream",
          "name": "stdout",
          "text": [
            "Mounted at /content/drive\n"
          ]
        }
      ],
      "source": [
        "from google.colab import drive\n",
        "drive.mount('/content/drive')"
      ]
    },
    {
      "cell_type": "code",
      "source": [
        "# importing libraries\n",
        "import os\n",
        "import sys\n",
        "import pandas as pd\n",
        "import numpy as np "
      ],
      "metadata": {
        "id": "FEON8VMZuEbY"
      },
      "execution_count": null,
      "outputs": []
    },
    {
      "cell_type": "code",
      "source": [
        "tweet_jan = pd.read_csv('/content/drive/MyDrive/Twitter/tweet_jan.csv')\n",
        "tweet_feb = pd.read_csv('/content/drive/MyDrive/Twitter/tweet_feb.csv')\n",
        "tweet_mar = pd.read_csv('/content/drive/MyDrive/Twitter/tweet_mar.csv')\n",
        "tweet_apr = pd.read_csv('/content/drive/MyDrive/Twitter/tweet_apr.csv')\n",
        "tweet_may = pd.read_csv('/content/drive/MyDrive/Twitter/tweet_may.csv')\n",
        "tweet_jun = pd.read_csv('/content/drive/MyDrive/Twitter/tweet_jun.csv')\n",
        "\n",
        "UserInNY = pd.read_csv('/content/drive/MyDrive/Twitter/UsersNY.csv')\n"
      ],
      "metadata": {
        "colab": {
          "base_uri": "https://localhost:8080/"
        },
        "id": "YuHX4tsMuEr8",
        "outputId": "19628100-69e4-48df-b7f9-81c466814f72"
      },
      "execution_count": null,
      "outputs": [
        {
          "output_type": "stream",
          "name": "stderr",
          "text": [
            "/usr/local/lib/python3.7/dist-packages/IPython/core/interactiveshell.py:2882: DtypeWarning: Columns (4) have mixed types.Specify dtype option on import or set low_memory=False.\n",
            "  exec(code_obj, self.user_global_ns, self.user_ns)\n"
          ]
        }
      ]
    },
    {
      "cell_type": "code",
      "source": [
        "#df1 = pd.DataFrame(np.random.randint(25, size=(4, 4)),\n",
        "#                   index=[\"1\", \"2\", \"3\", \"4\"],\n",
        "#                   columns=[\"A\", \"B\", \"C\", \"D\"])\n",
        " \n",
        "#df2 = pd.DataFrame(np.random.randint(25, size=(6, 4)),\n",
        "#                   index=[\"5\", \"6\", \"7\", \"8\", \"9\", \"10\"],\n",
        "#                   columns=[\"A\", \"B\", \"C\", \"D\"])"
      ],
      "metadata": {
        "id": "1G9_bYA9uE0e"
      },
      "execution_count": null,
      "outputs": []
    },
    {
      "cell_type": "code",
      "source": [
        "#print(df1)\n",
        "#print(df2)"
      ],
      "metadata": {
        "colab": {
          "base_uri": "https://localhost:8080/"
        },
        "id": "ejtsUg4kuE-X",
        "outputId": "e85e5678-ae1f-4576-908c-2a280cc22e9f"
      },
      "execution_count": null,
      "outputs": [
        {
          "output_type": "stream",
          "name": "stdout",
          "text": [
            "    A   B   C   D\n",
            "1   0   4  24   0\n",
            "2   4  19  24  17\n",
            "3  13   9  10   6\n",
            "4   1  18   9   6\n",
            "     A   B   C   D\n",
            "5    4   7  19   8\n",
            "6   23  23   1  13\n",
            "7    4  17  13  20\n",
            "8   21   0  24  10\n",
            "9   21   1  15  24\n",
            "10  16  17   9   8\n"
          ]
        }
      ]
    },
    {
      "cell_type": "code",
      "source": [
        "#vertical_concat = pd.concat([df1, df2], axis=0)"
      ],
      "metadata": {
        "id": "YGwULfp1uFKB"
      },
      "execution_count": null,
      "outputs": []
    },
    {
      "cell_type": "code",
      "source": [
        "#vertical_concat"
      ],
      "metadata": {
        "colab": {
          "base_uri": "https://localhost:8080/",
          "height": 363
        },
        "id": "MrC9EB2BuFTM",
        "outputId": "776bd66f-9dd2-4fe7-bc75-952e766b6f62"
      },
      "execution_count": null,
      "outputs": [
        {
          "output_type": "execute_result",
          "data": {
            "text/plain": [
              "     A   B   C   D\n",
              "1    0   4  24   0\n",
              "2    4  19  24  17\n",
              "3   13   9  10   6\n",
              "4    1  18   9   6\n",
              "5    4   7  19   8\n",
              "6   23  23   1  13\n",
              "7    4  17  13  20\n",
              "8   21   0  24  10\n",
              "9   21   1  15  24\n",
              "10  16  17   9   8"
            ],
            "text/html": [
              "\n",
              "  <div id=\"df-f37bb64f-48c3-4165-8c7c-cea54a1cf291\">\n",
              "    <div class=\"colab-df-container\">\n",
              "      <div>\n",
              "<style scoped>\n",
              "    .dataframe tbody tr th:only-of-type {\n",
              "        vertical-align: middle;\n",
              "    }\n",
              "\n",
              "    .dataframe tbody tr th {\n",
              "        vertical-align: top;\n",
              "    }\n",
              "\n",
              "    .dataframe thead th {\n",
              "        text-align: right;\n",
              "    }\n",
              "</style>\n",
              "<table border=\"1\" class=\"dataframe\">\n",
              "  <thead>\n",
              "    <tr style=\"text-align: right;\">\n",
              "      <th></th>\n",
              "      <th>A</th>\n",
              "      <th>B</th>\n",
              "      <th>C</th>\n",
              "      <th>D</th>\n",
              "    </tr>\n",
              "  </thead>\n",
              "  <tbody>\n",
              "    <tr>\n",
              "      <th>1</th>\n",
              "      <td>0</td>\n",
              "      <td>4</td>\n",
              "      <td>24</td>\n",
              "      <td>0</td>\n",
              "    </tr>\n",
              "    <tr>\n",
              "      <th>2</th>\n",
              "      <td>4</td>\n",
              "      <td>19</td>\n",
              "      <td>24</td>\n",
              "      <td>17</td>\n",
              "    </tr>\n",
              "    <tr>\n",
              "      <th>3</th>\n",
              "      <td>13</td>\n",
              "      <td>9</td>\n",
              "      <td>10</td>\n",
              "      <td>6</td>\n",
              "    </tr>\n",
              "    <tr>\n",
              "      <th>4</th>\n",
              "      <td>1</td>\n",
              "      <td>18</td>\n",
              "      <td>9</td>\n",
              "      <td>6</td>\n",
              "    </tr>\n",
              "    <tr>\n",
              "      <th>5</th>\n",
              "      <td>4</td>\n",
              "      <td>7</td>\n",
              "      <td>19</td>\n",
              "      <td>8</td>\n",
              "    </tr>\n",
              "    <tr>\n",
              "      <th>6</th>\n",
              "      <td>23</td>\n",
              "      <td>23</td>\n",
              "      <td>1</td>\n",
              "      <td>13</td>\n",
              "    </tr>\n",
              "    <tr>\n",
              "      <th>7</th>\n",
              "      <td>4</td>\n",
              "      <td>17</td>\n",
              "      <td>13</td>\n",
              "      <td>20</td>\n",
              "    </tr>\n",
              "    <tr>\n",
              "      <th>8</th>\n",
              "      <td>21</td>\n",
              "      <td>0</td>\n",
              "      <td>24</td>\n",
              "      <td>10</td>\n",
              "    </tr>\n",
              "    <tr>\n",
              "      <th>9</th>\n",
              "      <td>21</td>\n",
              "      <td>1</td>\n",
              "      <td>15</td>\n",
              "      <td>24</td>\n",
              "    </tr>\n",
              "    <tr>\n",
              "      <th>10</th>\n",
              "      <td>16</td>\n",
              "      <td>17</td>\n",
              "      <td>9</td>\n",
              "      <td>8</td>\n",
              "    </tr>\n",
              "  </tbody>\n",
              "</table>\n",
              "</div>\n",
              "      <button class=\"colab-df-convert\" onclick=\"convertToInteractive('df-f37bb64f-48c3-4165-8c7c-cea54a1cf291')\"\n",
              "              title=\"Convert this dataframe to an interactive table.\"\n",
              "              style=\"display:none;\">\n",
              "        \n",
              "  <svg xmlns=\"http://www.w3.org/2000/svg\" height=\"24px\"viewBox=\"0 0 24 24\"\n",
              "       width=\"24px\">\n",
              "    <path d=\"M0 0h24v24H0V0z\" fill=\"none\"/>\n",
              "    <path d=\"M18.56 5.44l.94 2.06.94-2.06 2.06-.94-2.06-.94-.94-2.06-.94 2.06-2.06.94zm-11 1L8.5 8.5l.94-2.06 2.06-.94-2.06-.94L8.5 2.5l-.94 2.06-2.06.94zm10 10l.94 2.06.94-2.06 2.06-.94-2.06-.94-.94-2.06-.94 2.06-2.06.94z\"/><path d=\"M17.41 7.96l-1.37-1.37c-.4-.4-.92-.59-1.43-.59-.52 0-1.04.2-1.43.59L10.3 9.45l-7.72 7.72c-.78.78-.78 2.05 0 2.83L4 21.41c.39.39.9.59 1.41.59.51 0 1.02-.2 1.41-.59l7.78-7.78 2.81-2.81c.8-.78.8-2.07 0-2.86zM5.41 20L4 18.59l7.72-7.72 1.47 1.35L5.41 20z\"/>\n",
              "  </svg>\n",
              "      </button>\n",
              "      \n",
              "  <style>\n",
              "    .colab-df-container {\n",
              "      display:flex;\n",
              "      flex-wrap:wrap;\n",
              "      gap: 12px;\n",
              "    }\n",
              "\n",
              "    .colab-df-convert {\n",
              "      background-color: #E8F0FE;\n",
              "      border: none;\n",
              "      border-radius: 50%;\n",
              "      cursor: pointer;\n",
              "      display: none;\n",
              "      fill: #1967D2;\n",
              "      height: 32px;\n",
              "      padding: 0 0 0 0;\n",
              "      width: 32px;\n",
              "    }\n",
              "\n",
              "    .colab-df-convert:hover {\n",
              "      background-color: #E2EBFA;\n",
              "      box-shadow: 0px 1px 2px rgba(60, 64, 67, 0.3), 0px 1px 3px 1px rgba(60, 64, 67, 0.15);\n",
              "      fill: #174EA6;\n",
              "    }\n",
              "\n",
              "    [theme=dark] .colab-df-convert {\n",
              "      background-color: #3B4455;\n",
              "      fill: #D2E3FC;\n",
              "    }\n",
              "\n",
              "    [theme=dark] .colab-df-convert:hover {\n",
              "      background-color: #434B5C;\n",
              "      box-shadow: 0px 1px 3px 1px rgba(0, 0, 0, 0.15);\n",
              "      filter: drop-shadow(0px 1px 2px rgba(0, 0, 0, 0.3));\n",
              "      fill: #FFFFFF;\n",
              "    }\n",
              "  </style>\n",
              "\n",
              "      <script>\n",
              "        const buttonEl =\n",
              "          document.querySelector('#df-f37bb64f-48c3-4165-8c7c-cea54a1cf291 button.colab-df-convert');\n",
              "        buttonEl.style.display =\n",
              "          google.colab.kernel.accessAllowed ? 'block' : 'none';\n",
              "\n",
              "        async function convertToInteractive(key) {\n",
              "          const element = document.querySelector('#df-f37bb64f-48c3-4165-8c7c-cea54a1cf291');\n",
              "          const dataTable =\n",
              "            await google.colab.kernel.invokeFunction('convertToInteractive',\n",
              "                                                     [key], {});\n",
              "          if (!dataTable) return;\n",
              "\n",
              "          const docLinkHtml = 'Like what you see? Visit the ' +\n",
              "            '<a target=\"_blank\" href=https://colab.research.google.com/notebooks/data_table.ipynb>data table notebook</a>'\n",
              "            + ' to learn more about interactive tables.';\n",
              "          element.innerHTML = '';\n",
              "          dataTable['output_type'] = 'display_data';\n",
              "          await google.colab.output.renderOutput(dataTable, element);\n",
              "          const docLink = document.createElement('div');\n",
              "          docLink.innerHTML = docLinkHtml;\n",
              "          element.appendChild(docLink);\n",
              "        }\n",
              "      </script>\n",
              "    </div>\n",
              "  </div>\n",
              "  "
            ]
          },
          "metadata": {},
          "execution_count": 7
        }
      ]
    },
    {
      "cell_type": "code",
      "source": [
        "print(\"shape jan: \", tweet_jan.shape)\n",
        "print(\"shape feb: \", tweet_feb.shape)\n",
        "print(\"shape mar: \", tweet_mar.shape)\n",
        "print(\"shape apr: \", tweet_apr.shape)\n",
        "print(\"shape may: \", tweet_may.shape)\n",
        "print(\"shape jun: \", tweet_jun.shape)\n"
      ],
      "metadata": {
        "colab": {
          "base_uri": "https://localhost:8080/"
        },
        "id": "e86jaSKPywpe",
        "outputId": "00347ad1-0548-4162-c591-f7dcae772cb1"
      },
      "execution_count": null,
      "outputs": [
        {
          "output_type": "stream",
          "name": "stdout",
          "text": [
            "shape jan:  (807605, 9)\n",
            "shape feb:  (632938, 9)\n",
            "shape mar:  (674171, 9)\n",
            "shape apr:  (644219, 9)\n",
            "shape may:  (645364, 9)\n",
            "shape jun:  (645731, 9)\n"
          ]
        }
      ]
    },
    {
      "cell_type": "code",
      "source": [
        "all_month_tweet = pd.concat([tweet_jan, tweet_feb, tweet_mar, tweet_apr, tweet_may, tweet_jun ], axis=0)"
      ],
      "metadata": {
        "id": "uLIbDIB_uF7L"
      },
      "execution_count": null,
      "outputs": []
    },
    {
      "cell_type": "code",
      "source": [
        "all_month_tweet.shape"
      ],
      "metadata": {
        "colab": {
          "base_uri": "https://localhost:8080/"
        },
        "id": "-5pICgSbuGDf",
        "outputId": "935d0a09-6778-40cd-e578-9730258dceed"
      },
      "execution_count": null,
      "outputs": [
        {
          "output_type": "execute_result",
          "data": {
            "text/plain": [
              "(4050028, 9)"
            ]
          },
          "metadata": {},
          "execution_count": 11
        }
      ]
    },
    {
      "cell_type": "code",
      "source": [
        "all_month_tweet.dtypes"
      ],
      "metadata": {
        "colab": {
          "base_uri": "https://localhost:8080/"
        },
        "id": "FJ7Hc2lh0WMd",
        "outputId": "c817eaef-51c9-4f30-a57f-16397119a838"
      },
      "execution_count": null,
      "outputs": [
        {
          "output_type": "execute_result",
          "data": {
            "text/plain": [
              "tweetUrl           object\n",
              "date               object\n",
              "content            object\n",
              "tweetId           float64\n",
              "userId             object\n",
              "mentionedUsers     object\n",
              "coordinates        object\n",
              "lat               float64\n",
              "long              float64\n",
              "dtype: object"
            ]
          },
          "metadata": {},
          "execution_count": 12
        }
      ]
    },
    {
      "cell_type": "code",
      "source": [
        "UserInNY.dtypes"
      ],
      "metadata": {
        "colab": {
          "base_uri": "https://localhost:8080/"
        },
        "id": "-dKAYMG90hV6",
        "outputId": "f79633af-5c0b-4684-8fca-a007850a701a"
      },
      "execution_count": null,
      "outputs": [
        {
          "output_type": "execute_result",
          "data": {
            "text/plain": [
              "username            object\n",
              "userId             float64\n",
              "displayname         object\n",
              "rawDescription      object\n",
              "descriptionUrls     object\n",
              "favouritesCount      int64\n",
              "listedCount          int64\n",
              "mediaCount           int64\n",
              "location            object\n",
              "dtype: object"
            ]
          },
          "metadata": {},
          "execution_count": 13
        }
      ]
    },
    {
      "cell_type": "code",
      "source": [
        "tweet_final = all_month_tweet.loc[all_month_tweet['userId'].isin(UserInNY['userId'])]\n",
        "tweet_final.shape"
      ],
      "metadata": {
        "colab": {
          "base_uri": "https://localhost:8080/"
        },
        "id": "HSmJQzQ6z8NJ",
        "outputId": "983550ba-70f0-4deb-df9f-b57a6b922284"
      },
      "execution_count": null,
      "outputs": [
        {
          "output_type": "execute_result",
          "data": {
            "text/plain": [
              "(1928796, 9)"
            ]
          },
          "metadata": {},
          "execution_count": 16
        }
      ]
    },
    {
      "cell_type": "code",
      "source": [
        "tweet_final.head()"
      ],
      "metadata": {
        "colab": {
          "base_uri": "https://localhost:8080/",
          "height": 511
        },
        "id": "9lLrED2m1XJI",
        "outputId": "ea1bae3b-4a81-4977-8d40-fafdf83dd1eb"
      },
      "execution_count": null,
      "outputs": [
        {
          "output_type": "execute_result",
          "data": {
            "text/plain": [
              "                                            tweetUrl  \\\n",
              "1  https://twitter.com/SharrodSharrod7/status/135...   \n",
              "2  https://twitter.com/JPBGerald/status/135602947...   \n",
              "6  https://twitter.com/511NY/status/1356029429798...   \n",
              "7  https://twitter.com/azu_musa/status/1356029425...   \n",
              "8  https://twitter.com/QueenSarahSatur/status/135...   \n",
              "\n",
              "                        date  \\\n",
              "1  2021-01-31 23:59:54+00:00   \n",
              "2  2021-01-31 23:59:54+00:00   \n",
              "6  2021-01-31 23:59:44+00:00   \n",
              "7  2021-01-31 23:59:43+00:00   \n",
              "8  2021-01-31 23:59:42+00:00   \n",
              "\n",
              "                                             content       tweetId     userId  \\\n",
              "1  I highly recommend cooking Sunday dinner while...  1.356029e+18  479760616   \n",
              "2  @TrijiconMan Pretty sure they're still funny a...  1.356029e+18   23435297   \n",
              "6  Cleared: Construction on #JLine Both direction...  1.356029e+18   50706690   \n",
              "7  Monkey the cat aka “the anti-dodo” @ Brooklyn,...  1.356029e+18  465220100   \n",
              "8  and a very light dusting of pedostache. Which ...  1.356029e+18   17843715   \n",
              "\n",
              "                                      mentionedUsers  \\\n",
              "1                                                NaN   \n",
              "2  [{'_type': 'snscrape.modules.twitter.User', 'u...   \n",
              "6                                                NaN   \n",
              "7                                                NaN   \n",
              "8                                                NaN   \n",
              "\n",
              "                                         coordinates        lat       long  \n",
              "1  {'_type': 'snscrape.modules.twitter.Coordinate...  40.683935 -74.026675  \n",
              "2  {'_type': 'snscrape.modules.twitter.Coordinate...  40.541722 -73.962582  \n",
              "6  {'_type': 'snscrape.modules.twitter.Coordinate...  40.718315 -73.987437  \n",
              "7  {'_type': 'snscrape.modules.twitter.Coordinate...  40.650000 -73.950000  \n",
              "8  {'_type': 'snscrape.modules.twitter.Coordinate...  40.570842 -74.041878  "
            ],
            "text/html": [
              "\n",
              "  <div id=\"df-6bbe2b9a-4271-4563-95e5-4abb2327382c\">\n",
              "    <div class=\"colab-df-container\">\n",
              "      <div>\n",
              "<style scoped>\n",
              "    .dataframe tbody tr th:only-of-type {\n",
              "        vertical-align: middle;\n",
              "    }\n",
              "\n",
              "    .dataframe tbody tr th {\n",
              "        vertical-align: top;\n",
              "    }\n",
              "\n",
              "    .dataframe thead th {\n",
              "        text-align: right;\n",
              "    }\n",
              "</style>\n",
              "<table border=\"1\" class=\"dataframe\">\n",
              "  <thead>\n",
              "    <tr style=\"text-align: right;\">\n",
              "      <th></th>\n",
              "      <th>tweetUrl</th>\n",
              "      <th>date</th>\n",
              "      <th>content</th>\n",
              "      <th>tweetId</th>\n",
              "      <th>userId</th>\n",
              "      <th>mentionedUsers</th>\n",
              "      <th>coordinates</th>\n",
              "      <th>lat</th>\n",
              "      <th>long</th>\n",
              "    </tr>\n",
              "  </thead>\n",
              "  <tbody>\n",
              "    <tr>\n",
              "      <th>1</th>\n",
              "      <td>https://twitter.com/SharrodSharrod7/status/135...</td>\n",
              "      <td>2021-01-31 23:59:54+00:00</td>\n",
              "      <td>I highly recommend cooking Sunday dinner while...</td>\n",
              "      <td>1.356029e+18</td>\n",
              "      <td>479760616</td>\n",
              "      <td>NaN</td>\n",
              "      <td>{'_type': 'snscrape.modules.twitter.Coordinate...</td>\n",
              "      <td>40.683935</td>\n",
              "      <td>-74.026675</td>\n",
              "    </tr>\n",
              "    <tr>\n",
              "      <th>2</th>\n",
              "      <td>https://twitter.com/JPBGerald/status/135602947...</td>\n",
              "      <td>2021-01-31 23:59:54+00:00</td>\n",
              "      <td>@TrijiconMan Pretty sure they're still funny a...</td>\n",
              "      <td>1.356029e+18</td>\n",
              "      <td>23435297</td>\n",
              "      <td>[{'_type': 'snscrape.modules.twitter.User', 'u...</td>\n",
              "      <td>{'_type': 'snscrape.modules.twitter.Coordinate...</td>\n",
              "      <td>40.541722</td>\n",
              "      <td>-73.962582</td>\n",
              "    </tr>\n",
              "    <tr>\n",
              "      <th>6</th>\n",
              "      <td>https://twitter.com/511NY/status/1356029429798...</td>\n",
              "      <td>2021-01-31 23:59:44+00:00</td>\n",
              "      <td>Cleared: Construction on #JLine Both direction...</td>\n",
              "      <td>1.356029e+18</td>\n",
              "      <td>50706690</td>\n",
              "      <td>NaN</td>\n",
              "      <td>{'_type': 'snscrape.modules.twitter.Coordinate...</td>\n",
              "      <td>40.718315</td>\n",
              "      <td>-73.987437</td>\n",
              "    </tr>\n",
              "    <tr>\n",
              "      <th>7</th>\n",
              "      <td>https://twitter.com/azu_musa/status/1356029425...</td>\n",
              "      <td>2021-01-31 23:59:43+00:00</td>\n",
              "      <td>Monkey the cat aka “the anti-dodo” @ Brooklyn,...</td>\n",
              "      <td>1.356029e+18</td>\n",
              "      <td>465220100</td>\n",
              "      <td>NaN</td>\n",
              "      <td>{'_type': 'snscrape.modules.twitter.Coordinate...</td>\n",
              "      <td>40.650000</td>\n",
              "      <td>-73.950000</td>\n",
              "    </tr>\n",
              "    <tr>\n",
              "      <th>8</th>\n",
              "      <td>https://twitter.com/QueenSarahSatur/status/135...</td>\n",
              "      <td>2021-01-31 23:59:42+00:00</td>\n",
              "      <td>and a very light dusting of pedostache. Which ...</td>\n",
              "      <td>1.356029e+18</td>\n",
              "      <td>17843715</td>\n",
              "      <td>NaN</td>\n",
              "      <td>{'_type': 'snscrape.modules.twitter.Coordinate...</td>\n",
              "      <td>40.570842</td>\n",
              "      <td>-74.041878</td>\n",
              "    </tr>\n",
              "  </tbody>\n",
              "</table>\n",
              "</div>\n",
              "      <button class=\"colab-df-convert\" onclick=\"convertToInteractive('df-6bbe2b9a-4271-4563-95e5-4abb2327382c')\"\n",
              "              title=\"Convert this dataframe to an interactive table.\"\n",
              "              style=\"display:none;\">\n",
              "        \n",
              "  <svg xmlns=\"http://www.w3.org/2000/svg\" height=\"24px\"viewBox=\"0 0 24 24\"\n",
              "       width=\"24px\">\n",
              "    <path d=\"M0 0h24v24H0V0z\" fill=\"none\"/>\n",
              "    <path d=\"M18.56 5.44l.94 2.06.94-2.06 2.06-.94-2.06-.94-.94-2.06-.94 2.06-2.06.94zm-11 1L8.5 8.5l.94-2.06 2.06-.94-2.06-.94L8.5 2.5l-.94 2.06-2.06.94zm10 10l.94 2.06.94-2.06 2.06-.94-2.06-.94-.94-2.06-.94 2.06-2.06.94z\"/><path d=\"M17.41 7.96l-1.37-1.37c-.4-.4-.92-.59-1.43-.59-.52 0-1.04.2-1.43.59L10.3 9.45l-7.72 7.72c-.78.78-.78 2.05 0 2.83L4 21.41c.39.39.9.59 1.41.59.51 0 1.02-.2 1.41-.59l7.78-7.78 2.81-2.81c.8-.78.8-2.07 0-2.86zM5.41 20L4 18.59l7.72-7.72 1.47 1.35L5.41 20z\"/>\n",
              "  </svg>\n",
              "      </button>\n",
              "      \n",
              "  <style>\n",
              "    .colab-df-container {\n",
              "      display:flex;\n",
              "      flex-wrap:wrap;\n",
              "      gap: 12px;\n",
              "    }\n",
              "\n",
              "    .colab-df-convert {\n",
              "      background-color: #E8F0FE;\n",
              "      border: none;\n",
              "      border-radius: 50%;\n",
              "      cursor: pointer;\n",
              "      display: none;\n",
              "      fill: #1967D2;\n",
              "      height: 32px;\n",
              "      padding: 0 0 0 0;\n",
              "      width: 32px;\n",
              "    }\n",
              "\n",
              "    .colab-df-convert:hover {\n",
              "      background-color: #E2EBFA;\n",
              "      box-shadow: 0px 1px 2px rgba(60, 64, 67, 0.3), 0px 1px 3px 1px rgba(60, 64, 67, 0.15);\n",
              "      fill: #174EA6;\n",
              "    }\n",
              "\n",
              "    [theme=dark] .colab-df-convert {\n",
              "      background-color: #3B4455;\n",
              "      fill: #D2E3FC;\n",
              "    }\n",
              "\n",
              "    [theme=dark] .colab-df-convert:hover {\n",
              "      background-color: #434B5C;\n",
              "      box-shadow: 0px 1px 3px 1px rgba(0, 0, 0, 0.15);\n",
              "      filter: drop-shadow(0px 1px 2px rgba(0, 0, 0, 0.3));\n",
              "      fill: #FFFFFF;\n",
              "    }\n",
              "  </style>\n",
              "\n",
              "      <script>\n",
              "        const buttonEl =\n",
              "          document.querySelector('#df-6bbe2b9a-4271-4563-95e5-4abb2327382c button.colab-df-convert');\n",
              "        buttonEl.style.display =\n",
              "          google.colab.kernel.accessAllowed ? 'block' : 'none';\n",
              "\n",
              "        async function convertToInteractive(key) {\n",
              "          const element = document.querySelector('#df-6bbe2b9a-4271-4563-95e5-4abb2327382c');\n",
              "          const dataTable =\n",
              "            await google.colab.kernel.invokeFunction('convertToInteractive',\n",
              "                                                     [key], {});\n",
              "          if (!dataTable) return;\n",
              "\n",
              "          const docLinkHtml = 'Like what you see? Visit the ' +\n",
              "            '<a target=\"_blank\" href=https://colab.research.google.com/notebooks/data_table.ipynb>data table notebook</a>'\n",
              "            + ' to learn more about interactive tables.';\n",
              "          element.innerHTML = '';\n",
              "          dataTable['output_type'] = 'display_data';\n",
              "          await google.colab.output.renderOutput(dataTable, element);\n",
              "          const docLink = document.createElement('div');\n",
              "          docLink.innerHTML = docLinkHtml;\n",
              "          element.appendChild(docLink);\n",
              "        }\n",
              "      </script>\n",
              "    </div>\n",
              "  </div>\n",
              "  "
            ]
          },
          "metadata": {},
          "execution_count": 18
        }
      ]
    },
    {
      "cell_type": "code",
      "source": [
        "tweets_file = \"Final_Tweets_2M.csv\""
      ],
      "metadata": {
        "id": "Qikovhvj1JUd"
      },
      "execution_count": null,
      "outputs": []
    },
    {
      "cell_type": "code",
      "source": [
        "tweet_final.to_csv(tweets_file, index=None)"
      ],
      "metadata": {
        "id": "v4qwAACAz8XX"
      },
      "execution_count": null,
      "outputs": []
    },
    {
      "cell_type": "code",
      "source": [
        "from google.colab import files"
      ],
      "metadata": {
        "id": "uRuwqkoHz8hn"
      },
      "execution_count": null,
      "outputs": []
    },
    {
      "cell_type": "code",
      "source": [
        "files.download(tweets_file)"
      ],
      "metadata": {
        "colab": {
          "base_uri": "https://localhost:8080/",
          "height": 34
        },
        "id": "ILRZ9Ob-z8qY",
        "outputId": "1f739605-cf01-4b88-fb78-eebbb2d058af"
      },
      "execution_count": null,
      "outputs": [
        {
          "output_type": "display_data",
          "data": {
            "text/plain": [
              "<IPython.core.display.Javascript object>"
            ],
            "application/javascript": [
              "\n",
              "    async function download(id, filename, size) {\n",
              "      if (!google.colab.kernel.accessAllowed) {\n",
              "        return;\n",
              "      }\n",
              "      const div = document.createElement('div');\n",
              "      const label = document.createElement('label');\n",
              "      label.textContent = `Downloading \"${filename}\": `;\n",
              "      div.appendChild(label);\n",
              "      const progress = document.createElement('progress');\n",
              "      progress.max = size;\n",
              "      div.appendChild(progress);\n",
              "      document.body.appendChild(div);\n",
              "\n",
              "      const buffers = [];\n",
              "      let downloaded = 0;\n",
              "\n",
              "      const channel = await google.colab.kernel.comms.open(id);\n",
              "      // Send a message to notify the kernel that we're ready.\n",
              "      channel.send({})\n",
              "\n",
              "      for await (const message of channel.messages) {\n",
              "        // Send a message to notify the kernel that we're ready.\n",
              "        channel.send({})\n",
              "        if (message.buffers) {\n",
              "          for (const buffer of message.buffers) {\n",
              "            buffers.push(buffer);\n",
              "            downloaded += buffer.byteLength;\n",
              "            progress.value = downloaded;\n",
              "          }\n",
              "        }\n",
              "      }\n",
              "      const blob = new Blob(buffers, {type: 'application/binary'});\n",
              "      const a = document.createElement('a');\n",
              "      a.href = window.URL.createObjectURL(blob);\n",
              "      a.download = filename;\n",
              "      div.appendChild(a);\n",
              "      a.click();\n",
              "      div.remove();\n",
              "    }\n",
              "  "
            ]
          },
          "metadata": {}
        },
        {
          "output_type": "display_data",
          "data": {
            "text/plain": [
              "<IPython.core.display.Javascript object>"
            ],
            "application/javascript": [
              "download(\"download_b3d7b710-7c6d-41c4-8f64-adddc9696499\", \"Final_Tweets_2M.csv\", 1380965325)"
            ]
          },
          "metadata": {}
        }
      ]
    }
  ]
}