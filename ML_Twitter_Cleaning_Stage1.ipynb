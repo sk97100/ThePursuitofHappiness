{
  "nbformat": 4,
  "nbformat_minor": 0,
  "metadata": {
    "colab": {
      "name": "ML_Twitter_Cleaning_Stage1.ipynb",
      "provenance": [],
      "machine_shape": "hm"
    },
    "kernelspec": {
      "name": "python3",
      "display_name": "Python 3"
    },
    "language_info": {
      "name": "python"
    }
  },
  "cells": [
    {
      "cell_type": "code",
      "execution_count": null,
      "metadata": {
        "colab": {
          "base_uri": "https://localhost:8080/"
        },
        "id": "zERV9oqsR2XF",
        "outputId": "e4aa02c8-942c-45cc-c26d-a8c2a028610c"
      },
      "outputs": [
        {
          "output_type": "stream",
          "name": "stdout",
          "text": [
            "Drive already mounted at /content/drive; to attempt to forcibly remount, call drive.mount(\"/content/drive\", force_remount=True).\n"
          ]
        }
      ],
      "source": [
        "from google.colab import drive\n",
        "drive.mount('/content/drive')"
      ]
    },
    {
      "cell_type": "code",
      "source": [
        "### !python3 \"/content/drive/My Drive/Colab Notebooks/hello.py\"\n",
        "\n",
        "## \"/content/drive/MyDrive/Twitter/Twitter_cleaning.py\"\n",
        "## \"/content/drive/MyDrive/Twitter/raw-tweets-2021-May.json\"\n",
        "## \"/content/drive/MyDrive/Twitter/tweet_Nov.csv\"\n",
        "## \"/content/drive/MyDrive/Twitter/user_Nov.csv\"\n",
        "#/content/tweet_may.csv"
      ],
      "metadata": {
        "id": "-nOyVltAisHo"
      },
      "execution_count": null,
      "outputs": []
    },
    {
      "cell_type": "code",
      "source": [
        "from google.colab import files\n",
        "import os\n",
        "import sys\n",
        "import pandas as pd\n",
        "from pandas.io.json import json_normalize\n",
        "import warnings\n",
        "warnings.filterwarnings('ignore')\n"
      ],
      "metadata": {
        "id": "RCRCjWt0_p6M"
      },
      "execution_count": null,
      "outputs": []
    },
    {
      "cell_type": "code",
      "source": [
        "raw_tweets_file = \"UserTweets.json\""
      ],
      "metadata": {
        "id": "7lnZ2JVFCbLt"
      },
      "execution_count": null,
      "outputs": []
    },
    {
      "cell_type": "code",
      "source": [
        "raw_tweets = pd.read_json(raw_tweets_file, lines=True)"
      ],
      "metadata": {
        "id": "fTJlbeh-Cvst"
      },
      "execution_count": null,
      "outputs": []
    },
    {
      "cell_type": "code",
      "source": [
        "tweets_file = \"tweet_trial.csv\"\n",
        "#users_file = \"user_trial.csv\""
      ],
      "metadata": {
        "id": "QEDPYCWgCwF1"
      },
      "execution_count": null,
      "outputs": []
    },
    {
      "cell_type": "code",
      "source": [
        "# Creating Unique Users month wise file\n",
        "users = json_normalize(raw_tweets['user'])\n",
        "users.drop(['description', 'linkTcourl'], axis=1, inplace=True)\n",
        "users.rename(columns={'id':'userId', 'url':'profileUrl'}, inplace=True)\n",
        "\n",
        "users = pd.DataFrame(users)\n",
        "users.drop_duplicates(subset=['userId'], inplace=True)\n",
        "#users.to_csv(users_file, index=None)\n",
        "#files.download(users_file)"
      ],
      "metadata": {
        "id": "go14QH9GCwU2"
      },
      "execution_count": null,
      "outputs": []
    },
    {
      "cell_type": "code",
      "source": [
        "# adding userID column in Raw Tweets\n",
        "user_id = []\n",
        "for user in raw_tweets['user']:\n",
        "    uid = user['id']\n",
        "    user_id.append(uid)\n",
        "raw_tweets['userId'] = user_id"
      ],
      "metadata": {
        "id": "pmbIPfa8CwkT"
      },
      "execution_count": null,
      "outputs": []
    },
    {
      "cell_type": "code",
      "source": [
        "#raw_tweets[\"coordinates\"].fillna(0, inplace = True) \n",
        "import numpy as np\n",
        "raw_tweets_c = raw_tweets.dropna(subset=['coordinates'])\n",
        "longitude = []\n",
        "latitude = []\n",
        "for co_ord in raw_tweets_c['coordinates']:\n",
        "    lat = co_ord['latitude']\n",
        "    lon = co_ord['longitude']\n",
        "    latitude.append(lat)\n",
        "    longitude.append(lon)\n",
        "raw_tweets_c['long'] = longitude\n",
        "raw_tweets_c['lat'] = latitude\n"
      ],
      "metadata": {
        "id": "M41-hfXaYN6-"
      },
      "execution_count": null,
      "outputs": []
    },
    {
      "cell_type": "code",
      "source": [
        "print(raw_tweets_c)"
      ],
      "metadata": {
        "colab": {
          "base_uri": "https://localhost:8080/"
        },
        "id": "mScyJIluBbKv",
        "outputId": "6be73e08-b307-416d-84bc-b3b44b8a9734"
      },
      "execution_count": null,
      "outputs": [
        {
          "output_type": "stream",
          "name": "stdout",
          "text": [
            "                            _type  \\\n",
            "0  snscrape.modules.twitter.Tweet   \n",
            "1  snscrape.modules.twitter.Tweet   \n",
            "2  snscrape.modules.twitter.Tweet   \n",
            "3  snscrape.modules.twitter.Tweet   \n",
            "4  snscrape.modules.twitter.Tweet   \n",
            "\n",
            "                                                 url  \\\n",
            "0  https://twitter.com/wattscentral/status/150463...   \n",
            "1  https://twitter.com/wattscentral/status/150242...   \n",
            "2  https://twitter.com/wattscentral/status/147778...   \n",
            "3  https://twitter.com/wattscentral/status/146258...   \n",
            "4  https://twitter.com/wattscentral/status/146187...   \n",
            "\n",
            "                       date  \\\n",
            "0 2022-03-18 01:33:46+00:00   \n",
            "1 2022-03-11 23:42:49+00:00   \n",
            "2 2022-01-02 23:48:15+00:00   \n",
            "3 2021-11-22 01:05:12+00:00   \n",
            "4 2021-11-20 02:10:43+00:00   \n",
            "\n",
            "                                             content  \\\n",
            "0  @washingtonpost @morgfair I’m, ever hear of Be...   \n",
            "1  @RonFilipkowski Such a jerk.\\nShowboat from th...   \n",
            "2  @MikeLupica Embarrassing. deBlasio, #JoeJudge,...   \n",
            "3  @BofA_News @AnneFinucane @McKinsey Talk is che...   \n",
            "4  @AnnCoulter Vs some blonde multimillionaire me...   \n",
            "\n",
            "                                     renderedContent                   id  \\\n",
            "0  @washingtonpost @morgfair I’m, ever hear of Be...  1504632117635997697   \n",
            "1  @RonFilipkowski Such a jerk.\\nShowboat from th...  1502429871338926090   \n",
            "2  @MikeLupica Embarrassing. deBlasio, #JoeJudge,...  1477788860776075264   \n",
            "3  @BofA_News @AnneFinucane @McKinsey Talk is che...  1462587938194272257   \n",
            "4  @AnnCoulter Vs some blonde multimillionaire me...  1461879650209177602   \n",
            "\n",
            "                                                user  replyCount  \\\n",
            "0  {'_type': 'snscrape.modules.twitter.User', 'us...           0   \n",
            "1  {'_type': 'snscrape.modules.twitter.User', 'us...           0   \n",
            "2  {'_type': 'snscrape.modules.twitter.User', 'us...           0   \n",
            "3  {'_type': 'snscrape.modules.twitter.User', 'us...           0   \n",
            "4  {'_type': 'snscrape.modules.twitter.User', 'us...           0   \n",
            "\n",
            "   retweetCount  likeCount  ...     inReplyToTweetId  \\\n",
            "0             0          0  ...  1504539425585471494   \n",
            "1             0          0  ...  1502373959060406276   \n",
            "2             0          0  ...  1477786382135398402   \n",
            "3             0          0  ...  1456275086521081856   \n",
            "4             0          0  ...  1461876736140918784   \n",
            "\n",
            "                                       inReplyToUser  \\\n",
            "0  {'_type': 'snscrape.modules.twitter.User', 'us...   \n",
            "1  {'_type': 'snscrape.modules.twitter.User', 'us...   \n",
            "2  {'_type': 'snscrape.modules.twitter.User', 'us...   \n",
            "3  {'_type': 'snscrape.modules.twitter.User', 'us...   \n",
            "4  {'_type': 'snscrape.modules.twitter.User', 'us...   \n",
            "\n",
            "                                      mentionedUsers  \\\n",
            "0  [{'_type': 'snscrape.modules.twitter.User', 'u...   \n",
            "1  [{'_type': 'snscrape.modules.twitter.User', 'u...   \n",
            "2  [{'_type': 'snscrape.modules.twitter.User', 'u...   \n",
            "3  [{'_type': 'snscrape.modules.twitter.User', 'u...   \n",
            "4  [{'_type': 'snscrape.modules.twitter.User', 'u...   \n",
            "\n",
            "                                         coordinates  \\\n",
            "0  {'_type': 'snscrape.modules.twitter.Coordinate...   \n",
            "1  {'_type': 'snscrape.modules.twitter.Coordinate...   \n",
            "2  {'_type': 'snscrape.modules.twitter.Coordinate...   \n",
            "3  {'_type': 'snscrape.modules.twitter.Coordinate...   \n",
            "4  {'_type': 'snscrape.modules.twitter.Coordinate...   \n",
            "\n",
            "                                               place  \\\n",
            "0  {'_type': 'snscrape.modules.twitter.Place', 'f...   \n",
            "1  {'_type': 'snscrape.modules.twitter.Place', 'f...   \n",
            "2  {'_type': 'snscrape.modules.twitter.Place', 'f...   \n",
            "3  {'_type': 'snscrape.modules.twitter.Place', 'f...   \n",
            "4  {'_type': 'snscrape.modules.twitter.Place', 'f...   \n",
            "\n",
            "                    hashtags  cashtags      userId       long        lat  \n",
            "0            [GlennKesseler]       NaN  2424243829 -74.107995  40.666879  \n",
            "1                       None       NaN  2424243829 -74.107995  40.666879  \n",
            "2  [JoeJudge, Trump, Giants]       NaN  2424243829 -74.107995  40.666879  \n",
            "3                       None       NaN  2424243829 -74.107995  40.666879  \n",
            "4                       None       NaN  2424243829 -74.107995  40.666879  \n",
            "\n",
            "[5 rows x 31 columns]\n"
          ]
        }
      ]
    },
    {
      "cell_type": "code",
      "source": [
        "# Saving tweets CSV\n",
        "cols = ['url', 'date', 'content', 'id', 'userId', 'mentionedUsers', 'coordinates', 'lat', 'long']\n",
        "tweets = raw_tweets_c[cols]\n",
        "tweets.rename(columns={'id':'tweetId', 'url':'tweetUrl'}, inplace=True)\n",
        "\n",
        "tweets = pd.DataFrame(tweets)\n",
        "tweets.drop_duplicates(subset=['tweetId'], inplace=True)\n",
        "tweets.to_csv(tweets_file, index=None)\n",
        "files.download(tweets_file)"
      ],
      "metadata": {
        "colab": {
          "base_uri": "https://localhost:8080/",
          "height": 17
        },
        "id": "ro4g1a_3YOMn",
        "outputId": "6f57c222-6668-4b7b-f406-ad015b9e101f"
      },
      "execution_count": null,
      "outputs": [
        {
          "output_type": "display_data",
          "data": {
            "text/plain": [
              "<IPython.core.display.Javascript object>"
            ],
            "application/javascript": [
              "\n",
              "    async function download(id, filename, size) {\n",
              "      if (!google.colab.kernel.accessAllowed) {\n",
              "        return;\n",
              "      }\n",
              "      const div = document.createElement('div');\n",
              "      const label = document.createElement('label');\n",
              "      label.textContent = `Downloading \"${filename}\": `;\n",
              "      div.appendChild(label);\n",
              "      const progress = document.createElement('progress');\n",
              "      progress.max = size;\n",
              "      div.appendChild(progress);\n",
              "      document.body.appendChild(div);\n",
              "\n",
              "      const buffers = [];\n",
              "      let downloaded = 0;\n",
              "\n",
              "      const channel = await google.colab.kernel.comms.open(id);\n",
              "      // Send a message to notify the kernel that we're ready.\n",
              "      channel.send({})\n",
              "\n",
              "      for await (const message of channel.messages) {\n",
              "        // Send a message to notify the kernel that we're ready.\n",
              "        channel.send({})\n",
              "        if (message.buffers) {\n",
              "          for (const buffer of message.buffers) {\n",
              "            buffers.push(buffer);\n",
              "            downloaded += buffer.byteLength;\n",
              "            progress.value = downloaded;\n",
              "          }\n",
              "        }\n",
              "      }\n",
              "      const blob = new Blob(buffers, {type: 'application/binary'});\n",
              "      const a = document.createElement('a');\n",
              "      a.href = window.URL.createObjectURL(blob);\n",
              "      a.download = filename;\n",
              "      div.appendChild(a);\n",
              "      a.click();\n",
              "      div.remove();\n",
              "    }\n",
              "  "
            ]
          },
          "metadata": {}
        },
        {
          "output_type": "display_data",
          "data": {
            "text/plain": [
              "<IPython.core.display.Javascript object>"
            ],
            "application/javascript": [
              "download(\"download_b7244b0e-8a8d-460d-9c52-e8a6fbcf8e52\", \"tweet_trial.csv\", 6253)"
            ]
          },
          "metadata": {}
        }
      ]
    },
    {
      "cell_type": "code",
      "source": [
        ""
      ],
      "metadata": {
        "id": "988ryOIqYOaw"
      },
      "execution_count": null,
      "outputs": []
    },
    {
      "cell_type": "code",
      "source": [
        ""
      ],
      "metadata": {
        "id": "0auHt069YOlh"
      },
      "execution_count": null,
      "outputs": []
    },
    {
      "cell_type": "code",
      "source": [
        ""
      ],
      "metadata": {
        "id": "diFcMha-YOu2"
      },
      "execution_count": null,
      "outputs": []
    }
  ]
}